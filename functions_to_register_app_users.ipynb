{
 "cells": [
  {
   "cell_type": "code",
   "execution_count": 1,
   "metadata": {},
   "outputs": [
    {
     "name": "stdout",
     "output_type": "stream",
     "text": [
      "validate_name\n",
      "\n",
      " Checks that the name is greater than two characters and is a string data type.\n",
      "\n",
      " Args:\n",
      "    name (str): The inputted name from the user.\n",
      "\n",
      " Returns:\n",
      "    bool: True if the name passes the check, False otherwise.\n",
      "    \n",
      "--------------------\n",
      "\n",
      "validate_email\n",
      "\n",
      " Checks that the email address is in a valid format, has a username greater than 1 character, an '@' symbol, and an allowed domain that is in the `top_level_domains` variable.\n",
      "\n",
      "  Args:\n",
      "    email (str): The inputted email from the user.\n",
      "\n",
      "  Returns:\n",
      "    bool: True if the email passes the checks, False otherwise.\n",
      "    \n",
      "--------------------\n",
      "\n",
      "validate_password\n",
      "\n",
      " Checks that the password is strong enough. It should include a capital letter, a number between 0-9 and be greater than 8 characters.\n",
      "\n",
      "  Args:\n",
      "    password (str): The inputted password from the user.\n",
      "\n",
      "  Returns:\n",
      "    bool: True if the password passes the checks, False otherwise.\n",
      "    \n",
      "['org', 'net', 'edu', 'ac', 'uk', 'com']\n"
     ]
    }
   ],
   "source": [
    "# Re-run this cell and examine the docstring of each function\n",
    "from python_functions import validate_name, validate_email, validate_password, top_level_domains\n",
    "\n",
    "print(\"validate_name\\n\")\n",
    "print(validate_name.__doc__)\n",
    "print(\"--------------------\\n\")\n",
    "\n",
    "print(\"validate_email\\n\")\n",
    "print(validate_email.__doc__) \n",
    "print(\"--------------------\\n\")\n",
    "\n",
    "print(\"validate_password\\n\")\n",
    "print(validate_password.__doc__)\n",
    "\n",
    "# The top level domains variable is used in validate_email to approve only certain email domains\n",
    "print(top_level_domains)"
   ]
  },
  {
   "cell_type": "code",
   "execution_count": 2,
   "metadata": {},
   "outputs": [],
   "source": [
    "# 1. Function to validate user input from sign-up form\n",
    "def validate_user(name, email, password):\n",
    "    \"\"\"Validate the user name, email and password.\n",
    "\n",
    "    Args:\n",
    "        name (string): Name that we're attempting to validate.\n",
    "        email (string): Email address that we're attempting to validate.\n",
    "        password (string): Password that we're attempting to validate.\n",
    "\n",
    "    Returns:\n",
    "        Boolean: Will return True if all validation checks pass\n",
    "\n",
    "    Raises ValueError if validation fails.\n",
    "    \"\"\"\n",
    "    # Check if name is not valid, if not raise value error.\n",
    "    if validate_name(name) == False:\n",
    "        raise ValueError(\"Please make sure your name is greater than 2 characters!\")\n",
    "\n",
    "    # Check if email is not valid, if not raise value error.\n",
    "    if validate_email(email) == False:\n",
    "        raise ValueError(\"Your email address is in the incorrect format, please enter a valid email.\")\n",
    "\n",
    "    # Check if password is not valid, if not raise value error.\n",
    "    if validate_password(password) == False:\n",
    "        raise ValueError(\"Your password is too weak, ensure that your password is greater than 8 characters, contains a capital letter and a number.\")\n",
    "\n",
    "    # If none of the if not statements are triggered, return True\n",
    "    return True\n",
    "\n",
    "# 2. Function to register validated user if all checks have passed\n",
    "def register_user(name, email, password):\n",
    "    \"\"\"Attempt to register the user if they pass validation.\n",
    "\n",
    "    Args:\n",
    "        name (string): Name of the user\n",
    "        email (string): Email address of the user\n",
    "        password (string): Password of the user\n",
    "\n",
    "    Returns:\n",
    "        Dict: Return a dictionary with the user details\n",
    "\n",
    "    Raises ValueError on missing arguments.\n",
    "    \"\"\"\n",
    "\n",
    "    # Check if user input is valid by calling the validate user function\n",
    "    if validate_user(name, email, password):\n",
    "        # Create user object with details\n",
    "        user = {\n",
    "            \"name\": name,\n",
    "            \"email\": email,\n",
    "            \"password\": password\n",
    "        }\n",
    "\n",
    "        # Return user object\n",
    "        return user\n",
    "\n",
    "    # If validation fails, return False\n",
    "    return False\n"
   ]
  },
  {
   "cell_type": "code",
   "execution_count": 5,
   "metadata": {},
   "outputs": [
    {
     "name": "stdout",
     "output_type": "stream",
     "text": [
      "{'name': 'Mark', 'email': 'example@domain.com', 'password': 'Dc34:s!g5'}\n"
     ]
    }
   ],
   "source": [
    "print(register_user(\"Mark\", \"example@domain.com\", \"Dc34:s!g5\"))"
   ]
  }
 ],
 "metadata": {
  "kernelspec": {
   "display_name": "Python 3",
   "language": "python",
   "name": "python3"
  },
  "language_info": {
   "codemirror_mode": {
    "name": "ipython",
    "version": 3
   },
   "file_extension": ".py",
   "mimetype": "text/x-python",
   "name": "python",
   "nbconvert_exporter": "python",
   "pygments_lexer": "ipython3",
   "version": "3.12.1"
  }
 },
 "nbformat": 4,
 "nbformat_minor": 2
}
